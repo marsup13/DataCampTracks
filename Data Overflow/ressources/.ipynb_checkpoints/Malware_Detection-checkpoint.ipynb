{
 "cells": [
  {
   "cell_type": "markdown",
   "metadata": {
    "id": "4JSsGVMIK9TT"
   },
   "source": [
    "# Data Preprocessing "
   ]
  },
  {
   "cell_type": "code",
   "execution_count": 121,
   "metadata": {
    "colab": {
     "base_uri": "https://localhost:8080/",
     "height": 72
    },
    "id": "O9__aJrCE5b5",
    "outputId": "27ae6376-120a-4a12-e053-427e66ee4a42"
   },
   "outputs": [],
   "source": [
    "import pandas as pd\n",
    "import numpy as np\n",
    "import matplotlib.pyplot as plt\n",
    "import seaborn as sns\n",
    "import warnings\n",
    "warnings.filterwarnings(\"ignore\")\n"
   ]
  },
  {
   "cell_type": "code",
   "execution_count": null,
   "metadata": {
    "colab": {
     "base_uri": "https://localhost:8080/",
     "height": 86
    },
    "id": "mDCFlvc2hd9i",
    "outputId": "a71ac816-575a-4d2d-cba3-c1a47245445c"
   },
   "outputs": [],
   "source": [
    "#!gdown --id 1zK0DrOd-ehn72BRPjIO9CuC3DM5i7lwq"
   ]
  },
  {
   "cell_type": "code",
   "execution_count": 122,
   "metadata": {
    "id": "Tj3pe_P6EidS"
   },
   "outputs": [],
   "source": [
    "data = pd.read_csv('MalwareData.csv', sep='|')"
   ]
  },
  {
   "cell_type": "code",
   "execution_count": 123,
   "metadata": {
    "colab": {
     "base_uri": "https://localhost:8080/",
     "height": 218
    },
    "id": "dhbJcG0ZFcrP",
    "outputId": "d8decea1-4e99-4b84-b70d-bfd1cd1958d5"
   },
   "outputs": [
    {
     "data": {
      "text/html": [
       "<div>\n",
       "<style scoped>\n",
       "    .dataframe tbody tr th:only-of-type {\n",
       "        vertical-align: middle;\n",
       "    }\n",
       "\n",
       "    .dataframe tbody tr th {\n",
       "        vertical-align: top;\n",
       "    }\n",
       "\n",
       "    .dataframe thead th {\n",
       "        text-align: right;\n",
       "    }\n",
       "</style>\n",
       "<table border=\"1\" class=\"dataframe\">\n",
       "  <thead>\n",
       "    <tr style=\"text-align: right;\">\n",
       "      <th></th>\n",
       "      <th>Name</th>\n",
       "      <th>md5</th>\n",
       "      <th>Machine</th>\n",
       "      <th>SizeOfOptionalHeader</th>\n",
       "      <th>Characteristics</th>\n",
       "      <th>MajorLinkerVersion</th>\n",
       "      <th>MinorLinkerVersion</th>\n",
       "      <th>SizeOfCode</th>\n",
       "      <th>SizeOfInitializedData</th>\n",
       "      <th>SizeOfUninitializedData</th>\n",
       "      <th>...</th>\n",
       "      <th>ResourcesNb</th>\n",
       "      <th>ResourcesMeanEntropy</th>\n",
       "      <th>ResourcesMinEntropy</th>\n",
       "      <th>ResourcesMaxEntropy</th>\n",
       "      <th>ResourcesMeanSize</th>\n",
       "      <th>ResourcesMinSize</th>\n",
       "      <th>ResourcesMaxSize</th>\n",
       "      <th>LoadConfigurationSize</th>\n",
       "      <th>VersionInformationSize</th>\n",
       "      <th>legitimate</th>\n",
       "    </tr>\n",
       "  </thead>\n",
       "  <tbody>\n",
       "    <tr>\n",
       "      <th>0</th>\n",
       "      <td>memtest.exe</td>\n",
       "      <td>631ea355665f28d4707448e442fbf5b8</td>\n",
       "      <td>332</td>\n",
       "      <td>224</td>\n",
       "      <td>258</td>\n",
       "      <td>9</td>\n",
       "      <td>0</td>\n",
       "      <td>361984</td>\n",
       "      <td>115712</td>\n",
       "      <td>0</td>\n",
       "      <td>...</td>\n",
       "      <td>4</td>\n",
       "      <td>3.262823</td>\n",
       "      <td>2.568844</td>\n",
       "      <td>3.537939</td>\n",
       "      <td>8797.000000</td>\n",
       "      <td>216</td>\n",
       "      <td>18032</td>\n",
       "      <td>0</td>\n",
       "      <td>16</td>\n",
       "      <td>1</td>\n",
       "    </tr>\n",
       "    <tr>\n",
       "      <th>1</th>\n",
       "      <td>ose.exe</td>\n",
       "      <td>9d10f99a6712e28f8acd5641e3a7ea6b</td>\n",
       "      <td>332</td>\n",
       "      <td>224</td>\n",
       "      <td>3330</td>\n",
       "      <td>9</td>\n",
       "      <td>0</td>\n",
       "      <td>130560</td>\n",
       "      <td>19968</td>\n",
       "      <td>0</td>\n",
       "      <td>...</td>\n",
       "      <td>2</td>\n",
       "      <td>4.250461</td>\n",
       "      <td>3.420744</td>\n",
       "      <td>5.080177</td>\n",
       "      <td>837.000000</td>\n",
       "      <td>518</td>\n",
       "      <td>1156</td>\n",
       "      <td>72</td>\n",
       "      <td>18</td>\n",
       "      <td>1</td>\n",
       "    </tr>\n",
       "    <tr>\n",
       "      <th>2</th>\n",
       "      <td>setup.exe</td>\n",
       "      <td>4d92f518527353c0db88a70fddcfd390</td>\n",
       "      <td>332</td>\n",
       "      <td>224</td>\n",
       "      <td>3330</td>\n",
       "      <td>9</td>\n",
       "      <td>0</td>\n",
       "      <td>517120</td>\n",
       "      <td>621568</td>\n",
       "      <td>0</td>\n",
       "      <td>...</td>\n",
       "      <td>11</td>\n",
       "      <td>4.426324</td>\n",
       "      <td>2.846449</td>\n",
       "      <td>5.271813</td>\n",
       "      <td>31102.272727</td>\n",
       "      <td>104</td>\n",
       "      <td>270376</td>\n",
       "      <td>72</td>\n",
       "      <td>18</td>\n",
       "      <td>1</td>\n",
       "    </tr>\n",
       "    <tr>\n",
       "      <th>3</th>\n",
       "      <td>DW20.EXE</td>\n",
       "      <td>a41e524f8d45f0074fd07805ff0c9b12</td>\n",
       "      <td>332</td>\n",
       "      <td>224</td>\n",
       "      <td>258</td>\n",
       "      <td>9</td>\n",
       "      <td>0</td>\n",
       "      <td>585728</td>\n",
       "      <td>369152</td>\n",
       "      <td>0</td>\n",
       "      <td>...</td>\n",
       "      <td>10</td>\n",
       "      <td>4.364291</td>\n",
       "      <td>2.669314</td>\n",
       "      <td>6.400720</td>\n",
       "      <td>1457.000000</td>\n",
       "      <td>90</td>\n",
       "      <td>4264</td>\n",
       "      <td>72</td>\n",
       "      <td>18</td>\n",
       "      <td>1</td>\n",
       "    </tr>\n",
       "    <tr>\n",
       "      <th>4</th>\n",
       "      <td>dwtrig20.exe</td>\n",
       "      <td>c87e561258f2f8650cef999bf643a731</td>\n",
       "      <td>332</td>\n",
       "      <td>224</td>\n",
       "      <td>258</td>\n",
       "      <td>9</td>\n",
       "      <td>0</td>\n",
       "      <td>294912</td>\n",
       "      <td>247296</td>\n",
       "      <td>0</td>\n",
       "      <td>...</td>\n",
       "      <td>2</td>\n",
       "      <td>4.306100</td>\n",
       "      <td>3.421598</td>\n",
       "      <td>5.190603</td>\n",
       "      <td>1074.500000</td>\n",
       "      <td>849</td>\n",
       "      <td>1300</td>\n",
       "      <td>72</td>\n",
       "      <td>18</td>\n",
       "      <td>1</td>\n",
       "    </tr>\n",
       "  </tbody>\n",
       "</table>\n",
       "<p>5 rows × 57 columns</p>\n",
       "</div>"
      ],
      "text/plain": [
       "           Name                               md5  Machine  \\\n",
       "0   memtest.exe  631ea355665f28d4707448e442fbf5b8      332   \n",
       "1       ose.exe  9d10f99a6712e28f8acd5641e3a7ea6b      332   \n",
       "2     setup.exe  4d92f518527353c0db88a70fddcfd390      332   \n",
       "3      DW20.EXE  a41e524f8d45f0074fd07805ff0c9b12      332   \n",
       "4  dwtrig20.exe  c87e561258f2f8650cef999bf643a731      332   \n",
       "\n",
       "   SizeOfOptionalHeader  Characteristics  MajorLinkerVersion  \\\n",
       "0                   224              258                   9   \n",
       "1                   224             3330                   9   \n",
       "2                   224             3330                   9   \n",
       "3                   224              258                   9   \n",
       "4                   224              258                   9   \n",
       "\n",
       "   MinorLinkerVersion  SizeOfCode  SizeOfInitializedData  \\\n",
       "0                   0      361984                 115712   \n",
       "1                   0      130560                  19968   \n",
       "2                   0      517120                 621568   \n",
       "3                   0      585728                 369152   \n",
       "4                   0      294912                 247296   \n",
       "\n",
       "   SizeOfUninitializedData  ...  ResourcesNb  ResourcesMeanEntropy  \\\n",
       "0                        0  ...            4              3.262823   \n",
       "1                        0  ...            2              4.250461   \n",
       "2                        0  ...           11              4.426324   \n",
       "3                        0  ...           10              4.364291   \n",
       "4                        0  ...            2              4.306100   \n",
       "\n",
       "   ResourcesMinEntropy  ResourcesMaxEntropy  ResourcesMeanSize  \\\n",
       "0             2.568844             3.537939        8797.000000   \n",
       "1             3.420744             5.080177         837.000000   \n",
       "2             2.846449             5.271813       31102.272727   \n",
       "3             2.669314             6.400720        1457.000000   \n",
       "4             3.421598             5.190603        1074.500000   \n",
       "\n",
       "   ResourcesMinSize  ResourcesMaxSize  LoadConfigurationSize  \\\n",
       "0               216             18032                      0   \n",
       "1               518              1156                     72   \n",
       "2               104            270376                     72   \n",
       "3                90              4264                     72   \n",
       "4               849              1300                     72   \n",
       "\n",
       "   VersionInformationSize  legitimate  \n",
       "0                      16           1  \n",
       "1                      18           1  \n",
       "2                      18           1  \n",
       "3                      18           1  \n",
       "4                      18           1  \n",
       "\n",
       "[5 rows x 57 columns]"
      ]
     },
     "execution_count": 123,
     "metadata": {},
     "output_type": "execute_result"
    }
   ],
   "source": [
    "data.head()"
   ]
  },
  {
   "cell_type": "code",
   "execution_count": 124,
   "metadata": {
    "colab": {
     "base_uri": "https://localhost:8080/",
     "height": 34
    },
    "id": "OR4o39vdFifH",
    "outputId": "049eb5ad-4a0e-400e-89d0-ef28beeb3259"
   },
   "outputs": [
    {
     "data": {
      "text/plain": [
       "(138047, 57)"
      ]
     },
     "execution_count": 124,
     "metadata": {},
     "output_type": "execute_result"
    }
   ],
   "source": [
    "data.shape"
   ]
  },
  {
   "cell_type": "code",
   "execution_count": 125,
   "metadata": {
    "colab": {
     "base_uri": "https://localhost:8080/",
     "height": 34
    },
    "id": "hKrs5qa6bdpX",
    "outputId": "ec3c632e-c9de-4a2a-a698-99f5051dc693"
   },
   "outputs": [
    {
     "data": {
      "text/plain": [
       "0"
      ]
     },
     "execution_count": 125,
     "metadata": {},
     "output_type": "execute_result"
    }
   ],
   "source": [
    "data.legitimate.isnull().sum()"
   ]
  },
  {
   "cell_type": "code",
   "execution_count": 126,
   "metadata": {
    "colab": {
     "base_uri": "https://localhost:8080/",
     "height": 69
    },
    "id": "hbpvFfPxbwHf",
    "outputId": "66086f64-54af-41fd-83c2-733059793db9"
   },
   "outputs": [
    {
     "data": {
      "text/plain": [
       "0    96724\n",
       "1    41323\n",
       "Name: legitimate, dtype: int64"
      ]
     },
     "execution_count": 126,
     "metadata": {},
     "output_type": "execute_result"
    }
   ],
   "source": [
    "data.legitimate.value_counts()"
   ]
  },
  {
   "cell_type": "code",
   "execution_count": 127,
   "metadata": {
    "colab": {
     "base_uri": "https://localhost:8080/",
     "height": 264
    },
    "id": "G7-MBxu_iXeU",
    "outputId": "d668a7e2-e613-4c5b-9a8b-c7ff6f366bd2"
   },
   "outputs": [
    {
     "data": {
      "image/png": "[encoded data removed]",
      "text/plain": [
       "<Figure size 432x288 with 1 Axes>"
      ]
     },
     "metadata": {},
     "output_type": "display_data"
    }
   ],
   "source": [
    "import matplotlib.pyplot as plt\n",
    "from matplotlib.pyplot import figure\n",
    "labels = ['LegitimateFiles', 'MalwareFiles']\n",
    "sizes = [data['legitimate'].value_counts()[0],\n",
    "         data['legitimate'].value_counts()[1]\n",
    "        ]\n",
    "# print(sizes) # adds up to 1433, which is the total number of participants\n",
    "fig1, ax1 = plt.subplots()\n",
    "ax1.pie(sizes, labels=labels, autopct='%1.1f%%', shadow=True,)\n",
    "ax1.axis('equal')\n",
    "plt.title('MalwareDateset')\n",
    "plt.show()"
   ]
  },
  {
   "cell_type": "code",
   "execution_count": 128,
   "metadata": {
    "colab": {
     "base_uri": "https://localhost:8080/",
     "height": 623
    },
    "id": "s-b2GdmR7fSt",
    "outputId": "6b0c0dce-9462-4b25-d535-e777bfc0d531"
   },
   "outputs": [
    {
     "data": {
      "text/plain": [
       "Text(0, 0.5, 'Count')"
      ]
     },
     "execution_count": 128,
     "metadata": {},
     "output_type": "execute_result"
    },
    {
     "data": {
      "image/png": "[encoded data removed]",
      "text/plain": [
       "<Figure size 720x720 with 1 Axes>"
      ]
     },
     "metadata": {
      "needs_background": "light"
     },
     "output_type": "display_data"
    }
   ],
   "source": [
    "figure(num=None, figsize=(10, 10))\n",
    "plt.hist(data['legitimate'])\n",
    "plt.xlabel('Class')\n",
    "plt.ylabel('Count')"
   ]
  },
  {
   "cell_type": "code",
   "execution_count": 129,
   "metadata": {
    "colab": {
     "base_uri": "https://localhost:8080/",
     "height": 34
    },
    "id": "D4l_EpREFx8-",
    "outputId": "643f07a0-5ea8-45cd-f35d-9395b862c46f"
   },
   "outputs": [
    {
     "data": {
      "text/plain": [
       "array([1, 0], dtype=int64)"
      ]
     },
     "execution_count": 129,
     "metadata": {},
     "output_type": "execute_result"
    }
   ],
   "source": [
    "data.legitimate.unique()"
   ]
  },
  {
   "cell_type": "markdown",
   "metadata": {
    "id": "TFBB5tEW7RN1"
   },
   "source": [
    "##Checking for missing values"
   ]
  },
  {
   "cell_type": "code",
   "execution_count": 130,
   "metadata": {
    "colab": {
     "base_uri": "https://localhost:8080/",
     "height": 1000
    },
    "id": "cC06TOL0IUMe",
    "outputId": "1017165c-7a46-4ced-f363-18d40f287ff1"
   },
   "outputs": [
    {
     "data": {
      "text/plain": [
       "Name                           0\n",
       "md5                            0\n",
       "Machine                        0\n",
       "SizeOfOptionalHeader           0\n",
       "Characteristics                0\n",
       "MajorLinkerVersion             0\n",
       "MinorLinkerVersion             0\n",
       "SizeOfCode                     0\n",
       "SizeOfInitializedData          0\n",
       "SizeOfUninitializedData        0\n",
       "AddressOfEntryPoint            0\n",
       "BaseOfCode                     0\n",
       "BaseOfData                     0\n",
       "ImageBase                      0\n",
       "SectionAlignment               0\n",
       "FileAlignment                  0\n",
       "MajorOperatingSystemVersion    0\n",
       "MinorOperatingSystemVersion    0\n",
       "MajorImageVersion              0\n",
       "MinorImageVersion              0\n",
       "MajorSubsystemVersion          0\n",
       "MinorSubsystemVersion          0\n",
       "SizeOfImage                    0\n",
       "SizeOfHeaders                  0\n",
       "CheckSum                       0\n",
       "Subsystem                      0\n",
       "DllCharacteristics             0\n",
       "SizeOfStackReserve             0\n",
       "SizeOfStackCommit              0\n",
       "SizeOfHeapReserve              0\n",
       "SizeOfHeapCommit               0\n",
       "LoaderFlags                    0\n",
       "NumberOfRvaAndSizes            0\n",
       "SectionsNb                     0\n",
       "SectionsMeanEntropy            0\n",
       "SectionsMinEntropy             0\n",
       "SectionsMaxEntropy             0\n",
       "SectionsMeanRawsize            0\n",
       "SectionsMinRawsize             0\n",
       "SectionMaxRawsize              0\n",
       "SectionsMeanVirtualsize        0\n",
       "SectionsMinVirtualsize         0\n",
       "SectionMaxVirtualsize          0\n",
       "ImportsNbDLL                   0\n",
       "ImportsNb                      0\n",
       "ImportsNbOrdinal               0\n",
       "ExportNb                       0\n",
       "ResourcesNb                    0\n",
       "ResourcesMeanEntropy           0\n",
       "ResourcesMinEntropy            0\n",
       "ResourcesMaxEntropy            0\n",
       "ResourcesMeanSize              0\n",
       "ResourcesMinSize               0\n",
       "ResourcesMaxSize               0\n",
       "LoadConfigurationSize          0\n",
       "VersionInformationSize         0\n",
       "legitimate                     0\n",
       "dtype: int64"
      ]
     },
     "execution_count": 130,
     "metadata": {},
     "output_type": "execute_result"
    }
   ],
   "source": [
    "data.isna().sum() "
   ]
  },
  {
   "cell_type": "code",
   "execution_count": 131,
   "metadata": {
    "colab": {
     "base_uri": "https://localhost:8080/",
     "height": 1000
    },
    "id": "uYPOEYmEl4Jt",
    "outputId": "faf49884-6239-41b8-ac70-56a34cb23f40"
   },
   "outputs": [
    {
     "data": {
      "text/plain": [
       "Name                            object\n",
       "md5                             object\n",
       "Machine                          int64\n",
       "SizeOfOptionalHeader             int64\n",
       "Characteristics                  int64\n",
       "MajorLinkerVersion               int64\n",
       "MinorLinkerVersion               int64\n",
       "SizeOfCode                       int64\n",
       "SizeOfInitializedData            int64\n",
       "SizeOfUninitializedData          int64\n",
       "AddressOfEntryPoint              int64\n",
       "BaseOfCode                       int64\n",
       "BaseOfData                       int64\n",
       "ImageBase                      float64\n",
       "SectionAlignment                 int64\n",
       "FileAlignment                    int64\n",
       "MajorOperatingSystemVersion      int64\n",
       "MinorOperatingSystemVersion      int64\n",
       "MajorImageVersion                int64\n",
       "MinorImageVersion                int64\n",
       "MajorSubsystemVersion            int64\n",
       "MinorSubsystemVersion            int64\n",
       "SizeOfImage                      int64\n",
       "SizeOfHeaders                    int64\n",
       "CheckSum                         int64\n",
       "Subsystem                        int64\n",
       "DllCharacteristics               int64\n",
       "SizeOfStackReserve               int64\n",
       "SizeOfStackCommit                int64\n",
       "SizeOfHeapReserve                int64\n",
       "SizeOfHeapCommit                 int64\n",
       "LoaderFlags                      int64\n",
       "NumberOfRvaAndSizes              int64\n",
       "SectionsNb                       int64\n",
       "SectionsMeanEntropy            float64\n",
       "SectionsMinEntropy             float64\n",
       "SectionsMaxEntropy             float64\n",
       "SectionsMeanRawsize            float64\n",
       "SectionsMinRawsize               int64\n",
       "SectionMaxRawsize                int64\n",
       "SectionsMeanVirtualsize        float64\n",
       "SectionsMinVirtualsize           int64\n",
       "SectionMaxVirtualsize            int64\n",
       "ImportsNbDLL                     int64\n",
       "ImportsNb                        int64\n",
       "ImportsNbOrdinal                 int64\n",
       "ExportNb                         int64\n",
       "ResourcesNb                      int64\n",
       "ResourcesMeanEntropy           float64\n",
       "ResourcesMinEntropy            float64\n",
       "ResourcesMaxEntropy            float64\n",
       "ResourcesMeanSize              float64\n",
       "ResourcesMinSize                 int64\n",
       "ResourcesMaxSize                 int64\n",
       "LoadConfigurationSize            int64\n",
       "VersionInformationSize           int64\n",
       "legitimate                       int64\n",
       "dtype: object"
      ]
     },
     "execution_count": 131,
     "metadata": {},
     "output_type": "execute_result"
    }
   ],
   "source": [
    "data.dtypes"
   ]
  },
  {
   "cell_type": "code",
   "execution_count": 132,
   "metadata": {
    "id": "yz2KiOFuKTke"
   },
   "outputs": [],
   "source": [
    "data = data.drop(['Name','md5'], axis=1)"
   ]
  },
  {
   "cell_type": "code",
   "execution_count": 133,
   "metadata": {
    "colab": {
     "base_uri": "https://localhost:8080/",
     "height": 34
    },
    "id": "q_anTrncKvP5",
    "outputId": "2f517604-cc26-42dc-af2f-0cebad96fc2b"
   },
   "outputs": [
    {
     "data": {
      "text/plain": [
       "(138047, 55)"
      ]
     },
     "execution_count": 133,
     "metadata": {},
     "output_type": "execute_result"
    }
   ],
   "source": [
    "data.shape"
   ]
  },
  {
   "cell_type": "code",
   "execution_count": 134,
   "metadata": {
    "id": "Lb65IzcrJzNa"
   },
   "outputs": [],
   "source": [
    "#Changing pandas dataframe to numpy array\n",
    "features = data.iloc[:,:53].values\n",
    "labels = data.iloc[:, 54:].values"
   ]
  },
  {
   "cell_type": "code",
   "execution_count": 135,
   "metadata": {
    "colab": {
     "base_uri": "https://localhost:8080/",
     "height": 242
    },
    "id": "0jqG1SUGJ7L8",
    "outputId": "97966252-4187-4dcc-a6a4-e25d0322d8b0"
   },
   "outputs": [
    {
     "data": {
      "text/plain": [
       "array([[3.32000e+02, 2.24000e+02, 2.58000e+02, ..., 2.16000e+02,\n",
       "        1.80320e+04, 0.00000e+00],\n",
       "       [3.32000e+02, 2.24000e+02, 3.33000e+03, ..., 5.18000e+02,\n",
       "        1.15600e+03, 7.20000e+01],\n",
       "       [3.32000e+02, 2.24000e+02, 3.33000e+03, ..., 1.04000e+02,\n",
       "        2.70376e+05, 7.20000e+01],\n",
       "       ...,\n",
       "       [3.32000e+02, 2.24000e+02, 2.58000e+02, ..., 4.80000e+01,\n",
       "        2.26480e+04, 7.20000e+01],\n",
       "       [3.32000e+02, 2.24000e+02, 3.31660e+04, ..., 1.60000e+01,\n",
       "        2.21600e+03, 0.00000e+00],\n",
       "       [3.32000e+02, 2.24000e+02, 2.58000e+02, ..., 2.00000e+01,\n",
       "        3.18464e+05, 7.20000e+01]])"
      ]
     },
     "execution_count": 135,
     "metadata": {},
     "output_type": "execute_result"
    }
   ],
   "source": [
    "features"
   ]
  },
  {
   "cell_type": "code",
   "execution_count": 136,
   "metadata": {
    "colab": {
     "base_uri": "https://localhost:8080/",
     "height": 138
    },
    "id": "OqdtVv3yKBBJ",
    "outputId": "65f250dd-ad4b-4301-d568-ae702f68ea99"
   },
   "outputs": [
    {
     "data": {
      "text/plain": [
       "array([[1],\n",
       "       [1],\n",
       "       [1],\n",
       "       ...,\n",
       "       [0],\n",
       "       [0],\n",
       "       [0]], dtype=int64)"
      ]
     },
     "execution_count": 136,
     "metadata": {},
     "output_type": "execute_result"
    }
   ],
   "source": [
    "labels"
   ]
  },
  {
   "cell_type": "markdown",
   "metadata": {},
   "source": [
    "# Train test splitting"
   ]
  },
  {
   "cell_type": "code",
   "execution_count": 137,
   "metadata": {
    "id": "vLJTAKmILFZT"
   },
   "outputs": [],
   "source": [
    "from sklearn.model_selection import train_test_split\n",
    "train_features,test_features,train_labels,test_labels = train_test_split(features,labels,test_size = 0.2,stratify=labels)"
   ]
  },
  {
   "cell_type": "code",
   "execution_count": 138,
   "metadata": {},
   "outputs": [
    {
     "data": {
      "text/plain": [
       "(110437, 53)"
      ]
     },
     "execution_count": 138,
     "metadata": {},
     "output_type": "execute_result"
    }
   ],
   "source": [
    "train_features.shape"
   ]
  },
  {
   "cell_type": "markdown",
   "metadata": {},
   "source": [
    "# My own Model achraf model"
   ]
  },
  {
   "cell_type": "code",
   "execution_count": 139,
   "metadata": {},
   "outputs": [],
   "source": [
    "def my_model(X):\n",
    "    return np.zeros(X.shape[0],dtype=np.int64)\n"
   ]
  },
  {
   "cell_type": "markdown",
   "metadata": {
    "id": "D07g3RaHLBlO"
   },
   "source": [
    "# Model Training"
   ]
  },
  {
   "cell_type": "code",
   "execution_count": 140,
   "metadata": {
    "id": "cCQChYdGLkKm"
   },
   "outputs": [],
   "source": [
    "#Import our model from sklearn\n",
    "from sklearn.linear_model import LogisticRegression"
   ]
  },
  {
   "cell_type": "code",
   "execution_count": 141,
   "metadata": {
    "colab": {
     "base_uri": "https://localhost:8080/",
     "height": 207
    },
    "id": "dU1UWGi0LegN",
    "outputId": "2ed59626-db55-4002-995c-20918ee892e8"
   },
   "outputs": [],
   "source": [
    "#Instantiate our model\n",
    "clf = LogisticRegression()\n",
    "#final let's train our first model \n",
    "clf = clf.fit(train_features, train_labels)"
   ]
  },
  {
   "cell_type": "markdown",
   "metadata": {
    "id": "lBr7nN5Ul4Ky"
   },
   "source": [
    "# Model Testing"
   ]
  },
  {
   "cell_type": "code",
   "execution_count": 144,
   "metadata": {
    "colab": {
     "base_uri": "https://localhost:8080/",
     "height": 34
    },
    "id": "bQ_-aFyDLobu",
    "outputId": "d5f3a269-f7e6-402d-f321-c4d5987fda44"
   },
   "outputs": [
    {
     "data": {
      "text/plain": [
       "array([0, 0, 0, ..., 0, 0, 0], dtype=int64)"
      ]
     },
     "execution_count": 144,
     "metadata": {},
     "output_type": "execute_result"
    }
   ],
   "source": [
    "predicted_labels = clf.predict(test_features)\n",
    "predicted_labels"
   ]
  },
  {
   "cell_type": "code",
   "execution_count": 145,
   "metadata": {
    "colab": {
     "base_uri": "https://localhost:8080/",
     "height": 34
    },
    "id": "66ViyrhWLqGj",
    "outputId": "93f22f93-dc39-42af-bacd-918c7aa840b2"
   },
   "outputs": [
    {
     "data": {
      "text/plain": [
       "0.7006519377037306"
      ]
     },
     "execution_count": 145,
     "metadata": {},
     "output_type": "execute_result"
    }
   ],
   "source": [
    "from sklearn.metrics import accuracy_score\n",
    "accuracy = accuracy_score(test_labels, predicted_labels)\n",
    "accuracy"
   ]
  },
  {
   "cell_type": "code",
   "execution_count": 146,
   "metadata": {},
   "outputs": [
    {
     "name": "stdout",
     "output_type": "stream",
     "text": [
      "0.7006519377037306\n"
     ]
    }
   ],
   "source": [
    "my_pred=my_model(test_features)\n",
    "my_accuracy = accuracy_score(test_labels, my_pred)\n",
    "print(my_accuracy)"
   ]
  },
  {
   "cell_type": "code",
   "execution_count": 147,
   "metadata": {},
   "outputs": [
    {
     "name": "stdout",
     "output_type": "stream",
     "text": [
      "              precision    recall  f1-score   support\n",
      "\n",
      "           0       0.70      1.00      0.82     19345\n",
      "           1       0.00      0.00      0.00      8265\n",
      "\n",
      "    accuracy                           0.70     27610\n",
      "   macro avg       0.35      0.50      0.41     27610\n",
      "weighted avg       0.49      0.70      0.58     27610\n",
      "\n"
     ]
    }
   ],
   "source": [
    "from sklearn.metrics import classification_report\n",
    "print(classification_report(test_labels,predicted_labels))"
   ]
  },
  {
   "cell_type": "code",
   "execution_count": null,
   "metadata": {
    "id": "iEa3_IM4N1fm"
   },
   "outputs": [],
   "source": [
    "from sklearn.metrics import confusion_matrix,accuracy_score\n",
    "cm = confusion_matrix(test_labels, predicted_labels)"
   ]
  },
  {
   "cell_type": "code",
   "execution_count": 148,
   "metadata": {
    "colab": {
     "base_uri": "https://localhost:8080/",
     "height": 295
    },
    "id": "KmkfTZohOuR-",
    "outputId": "83207577-1729-4c79-cbb6-f14cc6d8ca9e"
   },
   "outputs": [
    {
     "data": {
      "image/png": "[encoded data removed]",
      "text/plain": [
       "<Figure size 432x288 with 2 Axes>"
      ]
     },
     "metadata": {
      "needs_background": "light"
     },
     "output_type": "display_data"
    }
   ],
   "source": [
    "\n",
    "ax = plt.subplot()\n",
    "sns.heatmap(cm, annot=True, ax = ax, fmt='g', cmap='Greens'); #annot=True to annotate cells\n",
    "\n",
    "# labels, title and ticks\n",
    "ax.set_xlabel('Predicted labels');\n",
    "ax.set_ylabel('True labels'); \n",
    "ax.set_title('Confusion Matrix'); \n",
    "ax.xaxis.set_ticklabels(['safe', 'threat']); \n",
    "ax.yaxis.set_ticklabels(['safe', 'threat']);"
   ]
  },
  {
   "cell_type": "code",
   "execution_count": 149,
   "metadata": {},
   "outputs": [],
   "source": [
    "from sklearn.tree import DecisionTreeClassifier"
   ]
  },
  {
   "cell_type": "code",
   "execution_count": 151,
   "metadata": {},
   "outputs": [
    {
     "data": {
      "text/plain": [
       "0.9925751539297356"
      ]
     },
     "execution_count": 151,
     "metadata": {},
     "output_type": "execute_result"
    }
   ],
   "source": [
    "#Instiate our DecisionTreeClassifer\n",
    "tree_clf = DecisionTreeClassifier()\n",
    "#Let's train our model\n",
    "tree_clf.fit(train_features,train_labels)\n",
    "#let's get our first prediction\n",
    "pred=tree_clf.predict(test_features)\n",
    "#let's evaluate our model\n",
    "accuracy_score(pred, test_labels)\n"
   ]
  },
  {
   "cell_type": "code",
   "execution_count": null,
   "metadata": {},
   "outputs": [],
   "source": []
  },
  {
   "cell_type": "markdown",
   "metadata": {
    "id": "0EXWiIa8oh5e"
   },
   "source": [
    "# The Power of Feature Engineering"
   ]
  },
  {
   "cell_type": "markdown",
   "metadata": {
    "id": "TWOXgrrSOYAs"
   },
   "source": [
    "## Some Data visualization"
   ]
  },
  {
   "cell_type": "code",
   "execution_count": 153,
   "metadata": {
    "id": "zHn5zqZ6Pufu"
   },
   "outputs": [],
   "source": [
    "def DataVis(Feature,data):\n",
    "    fig, (ax1, ax2) = plt.subplots(nrows=2, figsize=(10,10))\n",
    "    ax1.set_title('histograme')\n",
    "    ax1.hist(data[Feature])\n",
    "    ax2.set_title('BoxPlot')\n",
    "    sns.boxplot(data[Feature],color='#00CED1',ax=ax2)\n",
    "    plt.show()"
   ]
  },
  {
   "cell_type": "markdown",
   "metadata": {
    "id": "xJC2hQmZPDrJ"
   },
   "source": [
    "### Characteristics Feature"
   ]
  },
  {
   "cell_type": "code",
   "execution_count": 154,
   "metadata": {
    "colab": {
     "base_uri": "https://localhost:8080/",
     "height": 621
    },
    "id": "TVhcI-1dO12w",
    "outputId": "16bf2db1-7d8d-464a-957d-a28a2a58f032"
   },
   "outputs": [
    {
     "data": {
      "image/png": "[encoded data removed]",
      "text/plain": [
       "<Figure size 720x720 with 2 Axes>"
      ]
     },
     "metadata": {
      "needs_background": "light"
     },
     "output_type": "display_data"
    }
   ],
   "source": [
    "DataVis('Characteristics',data)"
   ]
  },
  {
   "cell_type": "markdown",
   "metadata": {
    "id": "8glJV2AHiJBr"
   },
   "source": [
    "##PowerTransformer"
   ]
  },
  {
   "cell_type": "markdown",
   "metadata": {
    "id": "8UHfhesGiuEf"
   },
   "source": [
    "\n",
    "Machine learning algorithms like Linear Regression and Gaussian Naive Bayes assume the numerical variables have a Gaussian probability distribution.\n",
    "\n",
    "Your data may not have a Gaussian distribution and instead may have a Gaussian-like distribution (e.g. nearly Gaussian but with outliers or a skew) or a totally different distribution (e.g. exponential).\n",
    "\n",
    "As such, you may be able to achieve better performance on a wide range of machine learning algorithms by transforming input and/or output variables to have a Gaussian or more-Gaussian distribution. Power transforms like the Box-Cox transform and the Yeo-Johnson transform provide an automatic way of performing these transforms on your data and are provided in the scikit-learn Python machine learning library."
   ]
  },
  {
   "cell_type": "code",
   "execution_count": 155,
   "metadata": {
    "id": "KbuncBT5iGq8"
   },
   "outputs": [],
   "source": [
    "# Import PowerTransformer\n",
    "from sklearn.preprocessing import PowerTransformer\n",
    "def PowerTransformerFn(data,Feature):\n",
    "  # Instantiate PowerTransformer\n",
    "  pow_trans = PowerTransformer()\n",
    "\n",
    "  # Train the transform on the data\n",
    "  pow_trans.fit(data[[Feature]])\n",
    "\n",
    "  # Apply the power transform to the data\n",
    "  data['SC'+Feature] = pow_trans.fit_transform(data[[Feature]])\n",
    "  fig, (ax1, ax2) = plt.subplots(ncols=2, figsize=(10, 5))\n",
    "  ax1.set_title('Before using PowerTransformer')\n",
    "  sns.kdeplot(data[Feature],ax=ax1)\n",
    "  ax2.set_title('After using PowerTransformer')\n",
    "  sns.kdeplot(data['SC'+Feature],ax=ax2)\n",
    "\n",
    "  # Plot the data before and after the transformation\n",
    "\n",
    "  plt.show()\n",
    "  data.drop(Feature,axis=1,inplace=True)\n",
    "\n",
    "  return data\n",
    "\n"
   ]
  },
  {
   "cell_type": "code",
   "execution_count": 156,
   "metadata": {
    "colab": {
     "base_uri": "https://localhost:8080/",
     "height": 336
    },
    "id": "jRiLkAcQomke",
    "outputId": "f50a012e-2852-403d-f510-f5b5ac653d79"
   },
   "outputs": [
    {
     "data": {
      "image/png": "[encoded data removed]",
      "text/plain": [
       "<Figure size 720x360 with 2 Axes>"
      ]
     },
     "metadata": {
      "needs_background": "light"
     },
     "output_type": "display_data"
    }
   ],
   "source": [
    "new_data = PowerTransformerFn(data,'Characteristics')"
   ]
  },
  {
   "cell_type": "markdown",
   "metadata": {
    "id": "8JY99ARZmYmB"
   },
   "source": [
    "##Romoving Outliers"
   ]
  },
  {
   "cell_type": "markdown",
   "metadata": {
    "id": "OYeOuyN8qej5"
   },
   "source": [
    "\n",
    "### First approach: Percentage based outlier removal\n",
    "One way to ensure a small portion of data is not having an overly adverse effect is by removing a certain percentage of the largest and/or smallest values in the column. This can be achieved by finding the relevant quantile and trimming the data using it with a mask. This approach is particularly useful if you are concerned that the highest values in your dataset should be avoided. When using this approach, you must remember that even if there are no outliers, this will still remove the same top N percentage from the dataset."
   ]
  },
  {
   "cell_type": "code",
   "execution_count": 157,
   "metadata": {
    "colab": {
     "base_uri": "https://localhost:8080/",
     "height": 568
    },
    "id": "KNy2YArBmcGs",
    "outputId": "a01740d6-3598-488a-be59-918ac108a7f7"
   },
   "outputs": [
    {
     "data": {
      "image/png": "[encoded data removed]",
      "text/plain": [
       "<Figure size 720x360 with 1 Axes>"
      ]
     },
     "metadata": {
      "needs_background": "light"
     },
     "output_type": "display_data"
    },
    {
     "data": {
      "image/png": "[encoded data removed]",
      "text/plain": [
       "<Figure size 432x288 with 1 Axes>"
      ]
     },
     "metadata": {
      "needs_background": "light"
     },
     "output_type": "display_data"
    }
   ],
   "source": [
    "def PBOFn(data,Feature):\n",
    "  \n",
    "    # Find the 95th quantile\n",
    "    quantile = data[Feature].quantile(0.95)\n",
    "    #quatile(0.95)=moyenne de 95% of data \n",
    "    # Trim the outliers\n",
    "    trimmed_df = data[data[Feature] < quantile]\n",
    "\n",
    "    # The original histogram\n",
    "    fig = plt.figure(figsize=(10,5))\n",
    "    sns.boxplot(data[[Feature]])\n",
    "    plt.show()\n",
    "    plt.clf()\n",
    "\n",
    "    # The trimmed histogram\n",
    "    sns.boxplot(trimmed_df[[Feature]])\n",
    "    plt.show()\n",
    "    return trimmed_df\n",
    "\n",
    "PBOFn_data=PBOFn(new_data,'SCCharacteristics')"
   ]
  },
  {
   "cell_type": "markdown",
   "metadata": {
    "id": "XMZz71sTyVgl"
   },
   "source": [
    "# Second approach : Statistical outlier removal\n",
    "While removing the top N% of your data is useful for ensuring that very spurious points are removed, it does have the disadvantage of always removing the same proportion of points, even if the data is correct. A commonly used alternative approach is to remove data that sits further than three standard deviations from the mean. You can implement this by first calculating the mean and standard deviation of the relevant column to find upper and lower bounds, and applying these bounds as a mask to the DataFrame. This method ensures that only data that is genuinely different from the rest is removed, and will remove fewer points if the data is close together."
   ]
  },
  {
   "cell_type": "code",
   "execution_count": 158,
   "metadata": {
    "colab": {
     "base_uri": "https://localhost:8080/",
     "height": 279
    },
    "id": "hQf6dhs2y317",
    "outputId": "d8e4bc7a-be0a-4f23-9e99-3973b5177fa2"
   },
   "outputs": [
    {
     "data": {
      "image/png": "[encoded data removed]",
      "text/plain": [
       "<Figure size 432x288 with 1 Axes>"
      ]
     },
     "metadata": {
      "needs_background": "light"
     },
     "output_type": "display_data"
    }
   ],
   "source": [
    "def SORFn(data,Feature):\n",
    "    # Find the mean and standard dev\n",
    "    std = data[Feature].std()\n",
    "    mean = data[Feature].mean()\n",
    "\n",
    "    # Calculate the cutoff\n",
    "    cut_off = std * 2\n",
    "    lower, upper = mean - cut_off, mean+cut_off\n",
    "\n",
    "    # Trim the outliers\n",
    "    So_df =data[(data[Feature] < upper) & (data[Feature] > lower)]\n",
    "\n",
    "    # The trimmed box plot  \n",
    "    sns.boxplot(So_df[Feature])\n",
    "    plt.show()\n",
    "    return So_df\n",
    "\n",
    "new_data = SORFn(new_data,'SCCharacteristics')\n"
   ]
  },
  {
   "cell_type": "markdown",
   "metadata": {
    "id": "QTQp8eBdZTJz"
   },
   "source": [
    "### VersionInformationSize"
   ]
  },
  {
   "cell_type": "markdown",
   "metadata": {
    "id": "oTP_jJMv3MpH"
   },
   "source": [
    "## VersionInformationSize Feature Visualization"
   ]
  },
  {
   "cell_type": "code",
   "execution_count": 159,
   "metadata": {
    "colab": {
     "base_uri": "https://localhost:8080/",
     "height": 621
    },
    "id": "tvEXQp8GOkH7",
    "outputId": "d22d5a26-8471-4940-ea87-ae5e27044485"
   },
   "outputs": [
    {
     "data": {
      "image/png": "[encoded data removed]",
      "text/plain": [
       "<Figure size 720x720 with 2 Axes>"
      ]
     },
     "metadata": {
      "needs_background": "light"
     },
     "output_type": "display_data"
    }
   ],
   "source": [
    "DataVis('VersionInformationSize',data)"
   ]
  },
  {
   "cell_type": "markdown",
   "metadata": {
    "id": "xWBMSng83r83"
   },
   "source": [
    "## PowerTransfer for VersionInformationSize"
   ]
  },
  {
   "cell_type": "code",
   "execution_count": 160,
   "metadata": {
    "colab": {
     "base_uri": "https://localhost:8080/",
     "height": 523
    },
    "id": "FswLRKO63DLY",
    "outputId": "135274c2-8d7d-417a-e3a6-e7ec828c06bd"
   },
   "outputs": [
    {
     "data": {
      "image/png": "[encoded data removed]",
      "text/plain": [
       "<Figure size 720x360 with 2 Axes>"
      ]
     },
     "metadata": {
      "needs_background": "light"
     },
     "output_type": "display_data"
    }
   ],
   "source": [
    "new_data = PowerTransformerFn(new_data,'VersionInformationSize')"
   ]
  },
  {
   "cell_type": "markdown",
   "metadata": {
    "id": "dysA1YEa3zSO"
   },
   "source": [
    "## Removing Outliers"
   ]
  },
  {
   "cell_type": "code",
   "execution_count": 161,
   "metadata": {
    "colab": {
     "base_uri": "https://localhost:8080/",
     "height": 296
    },
    "id": "Vg5R6hTGi0qa",
    "outputId": "74ebc8b8-426d-497f-9c88-b8226fe294ea"
   },
   "outputs": [
    {
     "name": "stderr",
     "output_type": "stream",
     "text": [
      "*c* argument looks like a single numeric RGB or RGBA sequence, which should be avoided as value-mapping will have precedence in case its length matches with *x* & *y*.  Please use the *color* keyword-argument or provide a 2-D array with a single row if you intend to specify the same RGB or RGBA value for all points.\n"
     ]
    },
    {
     "data": {
      "text/plain": [
       "<matplotlib.axes._subplots.AxesSubplot at 0x1aa00388d30>"
      ]
     },
     "execution_count": 161,
     "metadata": {},
     "output_type": "execute_result"
    },
    {
     "data": {
      "image/png": "[encoded data removed]",
      "text/plain": [
       "<Figure size 432x288 with 1 Axes>"
      ]
     },
     "metadata": {
      "needs_background": "light"
     },
     "output_type": "display_data"
    }
   ],
   "source": [
    "sns.boxenplot(data.VersionInformationSize)"
   ]
  },
  {
   "cell_type": "markdown",
   "metadata": {
    "id": "vR389hRTlrbY"
   },
   "source": [
    "##Feature Scaling"
   ]
  },
  {
   "cell_type": "markdown",
   "metadata": {
    "id": "ybMD3k2klus2"
   },
   "source": [
    "The mean and standard deviation are calculated for the feature and then the feature is scaled based on:\n",
    "# xi–mean(x)/stdev(x)\n"
   ]
  },
  {
   "cell_type": "markdown",
   "metadata": {
    "id": "KWgIprk2zM0k"
   },
   "source": []
  },
  {
   "cell_type": "code",
   "execution_count": 162,
   "metadata": {
    "colab": {
     "base_uri": "https://localhost:8080/",
     "height": 34
    },
    "id": "VIWEWsAtncgY",
    "outputId": "e47011cf-2962-4d84-d667-296a2dca073d"
   },
   "outputs": [
    {
     "data": {
      "text/plain": [
       "(135638, 55)"
      ]
     },
     "execution_count": 162,
     "metadata": {},
     "output_type": "execute_result"
    }
   ],
   "source": [
    "new_data.shape"
   ]
  },
  {
   "cell_type": "code",
   "execution_count": 163,
   "metadata": {
    "id": "_JRS-Lmrqyth"
   },
   "outputs": [],
   "source": [
    "list_new_features = [f for f in list(new_data) if f!='legitimate']"
   ]
  },
  {
   "cell_type": "code",
   "execution_count": 164,
   "metadata": {
    "id": "kZxRrvEkrvRC"
   },
   "outputs": [],
   "source": [
    "new_features=new_data[list_new_features]\n",
    "label = new_data['legitimate']"
   ]
  },
  {
   "cell_type": "code",
   "execution_count": 165,
   "metadata": {
    "colab": {
     "base_uri": "https://localhost:8080/",
     "height": 34
    },
    "id": "Libz-OK7rgYO",
    "outputId": "b1153b22-25a6-4414-cd40-cfd9f20ad5d2"
   },
   "outputs": [
    {
     "data": {
      "text/plain": [
       "135638"
      ]
     },
     "execution_count": 165,
     "metadata": {},
     "output_type": "execute_result"
    }
   ],
   "source": [
    "len(new_features)"
   ]
  },
  {
   "cell_type": "code",
   "execution_count": 166,
   "metadata": {
    "id": "hFhHLMI7N6b9"
   },
   "outputs": [],
   "source": [
    "#Normalizing the data\n",
    "from sklearn.preprocessing import StandardScaler\n",
    "sc = StandardScaler()\n",
    "new_features = sc.fit_transform(new_features)"
   ]
  },
  {
   "cell_type": "markdown",
   "metadata": {
    "id": "Q5JictM75TSR"
   },
   "source": [
    "# Train_test_split"
   ]
  },
  {
   "cell_type": "code",
   "execution_count": 167,
   "metadata": {
    "id": "hi6mDGuZn5j_"
   },
   "outputs": [],
   "source": [
    "train_features,test_features,train_labels,test_labels = train_test_split(new_features,label,test_size = 0.2)"
   ]
  },
  {
   "cell_type": "markdown",
   "metadata": {
    "id": "y6eI_ypv5a_W"
   },
   "source": [
    "# Training our model"
   ]
  },
  {
   "cell_type": "code",
   "execution_count": 168,
   "metadata": {
    "colab": {
     "base_uri": "https://localhost:8080/",
     "height": 153
    },
    "id": "R9aReOYepNlk",
    "outputId": "17dbbefe-1846-4f25-d691-c11b44fa5ae5"
   },
   "outputs": [],
   "source": [
    "clf = LogisticRegression()\n",
    "clf = clf.fit(train_features, train_labels)"
   ]
  },
  {
   "cell_type": "markdown",
   "metadata": {
    "id": "Ippe0DAy5gEt"
   },
   "source": [
    "#testing our model"
   ]
  },
  {
   "cell_type": "code",
   "execution_count": 170,
   "metadata": {
    "colab": {
     "base_uri": "https://localhost:8080/",
     "height": 34
    },
    "id": "QCFuTChdpSA3",
    "outputId": "9e872129-c4d5-439a-a95e-128d038e97cb"
   },
   "outputs": [
    {
     "data": {
      "text/plain": [
       "0.982158655263934"
      ]
     },
     "execution_count": 170,
     "metadata": {},
     "output_type": "execute_result"
    }
   ],
   "source": [
    "from sklearn.metrics import accuracy_score\n",
    "predicted_labels=clf.predict(test_features)\n",
    "accuracy = accuracy_score(test_labels, predicted_labels)\n",
    "accuracy"
   ]
  },
  {
   "cell_type": "code",
   "execution_count": 171,
   "metadata": {
    "id": "9RGAt3Gyp5u_"
   },
   "outputs": [],
   "source": [
    "cm = confusion_matrix(test_labels, predicted_labels)"
   ]
  },
  {
   "cell_type": "code",
   "execution_count": 172,
   "metadata": {
    "colab": {
     "base_uri": "https://localhost:8080/",
     "height": 295
    },
    "id": "sktKWytpy5BM",
    "outputId": "0aec0daf-ff98-42e0-c00e-295f3d970d4c"
   },
   "outputs": [
    {
     "data": {
      "image/png": "[encoded data removed]",
      "text/plain": [
       "<Figure size 432x288 with 2 Axes>"
      ]
     },
     "metadata": {
      "needs_background": "light"
     },
     "output_type": "display_data"
    }
   ],
   "source": [
    "ax = plt.subplot()\n",
    "sns.heatmap(cm, annot=True, ax = ax, fmt='g', cmap='Greens'); #annot=True to annotate cells\n",
    "\n",
    "# labels, title and ticks\n",
    "ax.set_xlabel('Predicted labels');\n",
    "ax.set_ylabel('True labels'); \n",
    "ax.set_title('Confusion Matrix'); \n",
    "ax.xaxis.set_ticklabels(['safe', 'threat']); \n",
    "ax.yaxis.set_ticklabels(['safe', 'threat']);"
   ]
  },
  {
   "cell_type": "markdown",
   "metadata": {},
   "source": [
    "# Let's Train a DecisionTreeClassifier"
   ]
  },
  {
   "cell_type": "code",
   "execution_count": 173,
   "metadata": {},
   "outputs": [],
   "source": [
    "from sklearn.tree import DecisionTreeClassifier"
   ]
  },
  {
   "cell_type": "code",
   "execution_count": 174,
   "metadata": {},
   "outputs": [
    {
     "data": {
      "text/plain": [
       "DecisionTreeClassifier(ccp_alpha=0.0, class_weight=None, criterion='gini',\n",
       "                       max_depth=None, max_features=None, max_leaf_nodes=None,\n",
       "                       min_impurity_decrease=0.0, min_impurity_split=None,\n",
       "                       min_samples_leaf=1, min_samples_split=2,\n",
       "                       min_weight_fraction_leaf=0.0, presort='deprecated',\n",
       "                       random_state=None, splitter='best')"
      ]
     },
     "execution_count": 174,
     "metadata": {},
     "output_type": "execute_result"
    }
   ],
   "source": [
    "clf_tree = DecisionTreeClassifier()\n",
    "\n",
    "clf_tree.fit(train_features, train_labels)"
   ]
  },
  {
   "cell_type": "code",
   "execution_count": 175,
   "metadata": {},
   "outputs": [],
   "source": [
    "tree_pred = clf_tree.predict(test_features)"
   ]
  },
  {
   "cell_type": "code",
   "execution_count": 176,
   "metadata": {},
   "outputs": [],
   "source": [
    "accuracy = accuracy_score(test_labels, tree_pred)"
   ]
  },
  {
   "cell_type": "code",
   "execution_count": 177,
   "metadata": {},
   "outputs": [
    {
     "name": "stdout",
     "output_type": "stream",
     "text": [
      "0.9922220583898556\n"
     ]
    }
   ],
   "source": [
    "print(accuracy)"
   ]
  },
  {
   "cell_type": "markdown",
   "metadata": {
    "id": "c2CNMFaYcunE"
   },
   "source": [
    "## let's use A RandomForestClassifier"
   ]
  },
  {
   "cell_type": "code",
   "execution_count": 178,
   "metadata": {
    "id": "gM4aRp6Yy-Ca"
   },
   "outputs": [],
   "source": [
    "from sklearn.ensemble import RandomForestClassifier"
   ]
  },
  {
   "cell_type": "code",
   "execution_count": 179,
   "metadata": {
    "id": "ugmt8pQNc78u"
   },
   "outputs": [],
   "source": [
    "Rfc = RandomForestClassifier(n_estimators=50) "
   ]
  },
  {
   "cell_type": "code",
   "execution_count": 180,
   "metadata": {
    "colab": {
     "base_uri": "https://localhost:8080/",
     "height": 153
    },
    "id": "Et4nNUp0dFac",
    "outputId": "15ef078a-7e05-442a-9412-dc47e4a990c9"
   },
   "outputs": [
    {
     "data": {
      "text/plain": [
       "RandomForestClassifier(bootstrap=True, ccp_alpha=0.0, class_weight=None,\n",
       "                       criterion='gini', max_depth=None, max_features='auto',\n",
       "                       max_leaf_nodes=None, max_samples=None,\n",
       "                       min_impurity_decrease=0.0, min_impurity_split=None,\n",
       "                       min_samples_leaf=1, min_samples_split=2,\n",
       "                       min_weight_fraction_leaf=0.0, n_estimators=50,\n",
       "                       n_jobs=None, oob_score=False, random_state=None,\n",
       "                       verbose=0, warm_start=False)"
      ]
     },
     "execution_count": 180,
     "metadata": {},
     "output_type": "execute_result"
    }
   ],
   "source": [
    "Rfc.fit(train_features, train_labels)"
   ]
  },
  {
   "cell_type": "code",
   "execution_count": 181,
   "metadata": {
    "id": "VddjZ3vmdKuc"
   },
   "outputs": [],
   "source": [
    "RandomForestpred = Rfc.predict(test_features)"
   ]
  },
  {
   "cell_type": "code",
   "execution_count": 182,
   "metadata": {
    "id": "xtHi1W8wddSl"
   },
   "outputs": [],
   "source": [
    "accuracy = accuracy_score(test_labels, RandomForestpred)"
   ]
  },
  {
   "cell_type": "code",
   "execution_count": 183,
   "metadata": {
    "colab": {
     "base_uri": "https://localhost:8080/",
     "height": 34
    },
    "id": "YSJJTOpDdiwu",
    "outputId": "4df44f84-4d66-4c2e-bbe7-3375c4ca57bc"
   },
   "outputs": [
    {
     "name": "stdout",
     "output_type": "stream",
     "text": [
      "0.9952447655558833\n"
     ]
    }
   ],
   "source": [
    "print(accuracy)"
   ]
  },
  {
   "cell_type": "code",
   "execution_count": 184,
   "metadata": {
    "id": "YMAhD1W-dkd8"
   },
   "outputs": [],
   "source": [
    "cmRF = confusion_matrix(test_labels,  RandomForestpred)"
   ]
  },
  {
   "cell_type": "code",
   "execution_count": 185,
   "metadata": {
    "colab": {
     "base_uri": "https://localhost:8080/",
     "height": 295
    },
    "id": "055OU5p2gBMp",
    "outputId": "8f63213f-0a8b-47cc-8bd8-bc4b01f46f7d"
   },
   "outputs": [
    {
     "data": {
      "image/png": "[encoded data removed]",
      "text/plain": [
       "<Figure size 432x288 with 2 Axes>"
      ]
     },
     "metadata": {
      "needs_background": "light"
     },
     "output_type": "display_data"
    }
   ],
   "source": [
    "ax = plt.subplot()\n",
    "sns.heatmap(cmRF, annot=True, ax = ax, fmt='g', cmap='Greens'); #annot=True to annotate cells\n",
    "\n",
    "# labels, title and ticks\n",
    "ax.set_xlabel('Predicted labels');\n",
    "ax.set_ylabel('True labels'); \n",
    "ax.set_title('Confusion Matrix'); \n",
    "ax.xaxis.set_ticklabels(['safe', 'threat']); \n",
    "ax.yaxis.set_ticklabels(['safe', 'threat']);"
   ]
  },
  {
   "cell_type": "code",
   "execution_count": null,
   "metadata": {
    "id": "oKY4Ja4hgH8H"
   },
   "outputs": [],
   "source": []
  },
  {
   "cell_type": "code",
   "execution_count": null,
   "metadata": {},
   "outputs": [],
   "source": []
  }
 ],
 "metadata": {
  "colab": {
   "collapsed_sections": [],
   "name": " Malware_Detection.ipynb",
   "provenance": []
  },
  "kernelspec": {
   "display_name": "Python 3",
   "language": "python",
   "name": "python3"
  },
  "language_info": {
   "codemirror_mode": {
    "name": "ipython",
    "version": 3
   },
   "file_extension": ".py",
   "mimetype": "text/x-python",
   "name": "python",
   "nbconvert_exporter": "python",
   "pygments_lexer": "ipython3",
   "version": "3.8.3"
  }
 },
 "nbformat": 4,
 "nbformat_minor": 1
}
