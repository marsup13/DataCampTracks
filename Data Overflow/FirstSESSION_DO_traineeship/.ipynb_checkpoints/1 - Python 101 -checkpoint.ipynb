{
 "cells": [
  {
   "cell_type": "markdown",
   "metadata": {},
   "source": [
    "<center><h1>Introduction to Python for Data Science</h1></center>\n"
   ]
  },
  {
   "cell_type": "markdown",
   "metadata": {},
   "source": [
    "<h3> I - Data Types:<h3>"
   ]
  },
  {
   "cell_type": "markdown",
   "metadata": {},
   "source": [
    "Python is a dynamically typed language. In other words, we do not need to declare variables before we use them and it is not necessary to specify their type. Furthermore, each and every variable that we create is automatically a Python object."
   ]
  },
  {
   "cell_type": "markdown",
   "metadata": {},
   "source": [
    "<h4>1. Numbers</h4>"
   ]
  },
  {
   "cell_type": "markdown",
   "metadata": {},
   "source": [
    "Python supports two types of numbers: Integers and floating point numbers. So we can assign the value of an integer to a variable as follows:"
   ]
  },
  {
   "cell_type": "code",
   "execution_count": 1,
   "metadata": {},
   "outputs": [],
   "source": [
    "# Declare a Number\n",
    "n = 4"
   ]
  },
  {
   "cell_type": "code",
   "execution_count": 2,
   "metadata": {},
   "outputs": [
    {
     "data": {
      "text/plain": [
       "int"
      ]
     },
     "execution_count": 2,
     "metadata": {},
     "output_type": "execute_result"
    }
   ],
   "source": [
    "# We can check the type of an object with the command type:\n",
    "type(n)"
   ]
  },
  {
   "cell_type": "code",
   "execution_count": 3,
   "metadata": {},
   "outputs": [
    {
     "data": {
      "text/plain": [
       "float"
      ]
     },
     "execution_count": 3,
     "metadata": {},
     "output_type": "execute_result"
    }
   ],
   "source": [
    "# check if Python automatically updates the variable type\n",
    "n = 4.3\n",
    "type(n)"
   ]
  },
  {
   "cell_type": "code",
   "execution_count": 4,
   "metadata": {},
   "outputs": [
    {
     "data": {
      "text/plain": [
       "float"
      ]
     },
     "execution_count": 4,
     "metadata": {},
     "output_type": "execute_result"
    }
   ],
   "source": [
    "# Override Python choice for variable type\n",
    "n = float(4)\n",
    "type(n)"
   ]
  },
  {
   "cell_type": "markdown",
   "metadata": {},
   "source": [
    "<h4> 1.1 Operations on Numbers </h4>"
   ]
  },
  {
   "cell_type": "code",
   "execution_count": 5,
   "metadata": {},
   "outputs": [
    {
     "name": "stdout",
     "output_type": "stream",
     "text": [
      "8\n"
     ]
    }
   ],
   "source": [
    "# Addition \n",
    "print(4+4)"
   ]
  },
  {
   "cell_type": "code",
   "execution_count": 6,
   "metadata": {},
   "outputs": [
    {
     "name": "stdout",
     "output_type": "stream",
     "text": [
      "3\n"
     ]
    }
   ],
   "source": [
    "# Subtraction\n",
    "print(5-2)"
   ]
  },
  {
   "cell_type": "code",
   "execution_count": 7,
   "metadata": {},
   "outputs": [
    {
     "name": "stdout",
     "output_type": "stream",
     "text": [
      "15\n"
     ]
    }
   ],
   "source": [
    "# Multiplication\n",
    "print(5*3)"
   ]
  },
  {
   "cell_type": "code",
   "execution_count": 8,
   "metadata": {},
   "outputs": [
    {
     "name": "stdout",
     "output_type": "stream",
     "text": [
      "5.666666666666667\n"
     ]
    }
   ],
   "source": [
    "# Division\n",
    "print(17/3)"
   ]
  },
  {
   "cell_type": "code",
   "execution_count": 10,
   "metadata": {},
   "outputs": [
    {
     "name": "stdout",
     "output_type": "stream",
     "text": [
      "le quotient est : 5\n",
      "le reste de la DE est : 2\n"
     ]
    }
   ],
   "source": [
    "#Division entière == division euclidinne\n",
    "print(\"le quotient est :\", 17//3)\n",
    "print(\"le reste de la DE est :\", 17%3)\n",
    "\n",
    "# 0<=r<diviseur"
   ]
  },
  {
   "cell_type": "code",
   "execution_count": 9,
   "metadata": {},
   "outputs": [
    {
     "name": "stdout",
     "output_type": "stream",
     "text": [
      "9\n"
     ]
    }
   ],
   "source": [
    "# Exponentiation\n",
    "print(3**2)"
   ]
  },
  {
   "cell_type": "markdown",
   "metadata": {},
   "source": [
    "<h4>2. Strings</h4>"
   ]
  },
  {
   "cell_type": "markdown",
   "metadata": {},
   "source": [
    "A string is effectively a sequence of characters. In\n",
    "Python, strings can be defined with the use of either single\n",
    "(’ ’) or double quotes ( ‘‘ ’’) as follows:"
   ]
  },
  {
   "cell_type": "code",
   "execution_count": 12,
   "metadata": {},
   "outputs": [
    {
     "data": {
      "text/plain": [
       "str"
      ]
     },
     "execution_count": 12,
     "metadata": {},
     "output_type": "execute_result"
    }
   ],
   "source": [
    "# Declare a String with single quotes and check the type\n",
    "String1 = 'String with a single quote'\n",
    "chaine =\"C'est mon anniversaire\"\n",
    "type(String1)"
   ]
  },
  {
   "cell_type": "code",
   "execution_count": 13,
   "metadata": {},
   "outputs": [
    {
     "data": {
      "text/plain": [
       "str"
      ]
     },
     "execution_count": 13,
     "metadata": {},
     "output_type": "execute_result"
    }
   ],
   "source": [
    "# Declare a String with double quotes quotes and check the type\n",
    "String2 = \"String with double quotes\"\n",
    "type(String2)"
   ]
  },
  {
   "cell_type": "code",
   "execution_count": 14,
   "metadata": {},
   "outputs": [
    {
     "data": {
      "text/plain": [
       "str"
      ]
     },
     "execution_count": 14,
     "metadata": {},
     "output_type": "execute_result"
    }
   ],
   "source": [
    "# Declare a String with triple quotes quotes and check the type\n",
    "String3 = \"\"\"String with triple quotes\"\"\"\n",
    "type(String3)"
   ]
  },
  {
   "cell_type": "markdown",
   "metadata": {},
   "source": [
    "<h4>2.2 Strings concatination</h4>"
   ]
  },
  {
   "cell_type": "code",
   "execution_count": 33,
   "metadata": {},
   "outputs": [
    {
     "data": {
      "text/plain": [
       "'taxi driver'"
      ]
     },
     "execution_count": 33,
     "metadata": {},
     "output_type": "execute_result"
    }
   ],
   "source": [
    "# Declare two strings and Concatinate them\n",
    "str1 , str2, str3 = \"taxi\",\"driver\", \" \"\n",
    "str1+str3+str2"
   ]
  },
  {
   "cell_type": "markdown",
   "metadata": {},
   "source": [
    "<h4>3. Complex Numbers</h4>"
   ]
  },
  {
   "cell_type": "markdown",
   "metadata": {},
   "source": [
    "Python also supports complex numbers, and it denotes\n",
    "the imaginary number i =\n",
    "√\n",
    "−1 as j, and so for a number n, nj is interpreted as a complex number.\n",
    "Let us see an example: If we want to define the complex\n",
    "number z = 2 + 3i we simply tell Python the following:\n"
   ]
  },
  {
   "cell_type": "code",
   "execution_count": 16,
   "metadata": {},
   "outputs": [
    {
     "name": "stdout",
     "output_type": "stream",
     "text": [
      "2.0\n"
     ]
    }
   ],
   "source": [
    "# Declare a Complex number\n",
    "z = 2 + 3j\n",
    "# Print the real Part\n",
    "print(z.real)"
   ]
  },
  {
   "cell_type": "code",
   "execution_count": 17,
   "metadata": {},
   "outputs": [
    {
     "name": "stdout",
     "output_type": "stream",
     "text": [
      "3.0\n"
     ]
    }
   ],
   "source": [
    "# Print the imaginary Part\n",
    "print(z.imag)"
   ]
  },
  {
   "cell_type": "markdown",
   "metadata": {},
   "source": [
    "<h4>4. Lists</h4>"
   ]
  },
  {
   "cell_type": "markdown",
   "metadata": {},
   "source": [
    "It is a sequence\n",
    "of objects, and these objects can be either of the same type\n",
    "or not. We denote a list with square brackets, [ ]. Lists are mutable objects and therefore it is possible to change\n",
    "individual elements in a list:\n"
   ]
  },
  {
   "cell_type": "code",
   "execution_count": 18,
   "metadata": {},
   "outputs": [],
   "source": [
    "# Declare a List of Numbers\n",
    "numbers = [ 1, 3.14, 2.78, 1.61]\n",
    "# Declare a List of Strings\n",
    "seasons = [\"winter\",\"summer\",\"fall\",\"spring\"]\n",
    "# Declare a List of Mixed Types\n",
    "mixed = [10.8,\"eggs\",4]"
   ]
  },
  {
   "cell_type": "code",
   "execution_count": 19,
   "metadata": {},
   "outputs": [
    {
     "name": "stdout",
     "output_type": "stream",
     "text": [
      "1\n"
     ]
    }
   ],
   "source": [
    "# Refer to an element in the List\n",
    "print(numbers[0])"
   ]
  },
  {
   "cell_type": "code",
   "execution_count": 20,
   "metadata": {},
   "outputs": [
    {
     "name": "stdout",
     "output_type": "stream",
     "text": [
      "['summer', 'fall']\n"
     ]
    }
   ],
   "source": [
    "# Refer to a sub-sequence of the list\n",
    "print(seasons[1:3]) #seasons[start:stop:step] start=> inclusive, stop=>exclusive"
   ]
  },
  {
   "cell_type": "code",
   "execution_count": 21,
   "metadata": {},
   "outputs": [
    {
     "name": "stdout",
     "output_type": "stream",
     "text": [
      "[10.8, 'butter', 4]\n"
     ]
    }
   ],
   "source": [
    "# Change elements in a list\n",
    "mixed[1] = \"butter\"\n",
    "print(mixed)"
   ]
  },
  {
   "cell_type": "code",
   "execution_count": 22,
   "metadata": {},
   "outputs": [
    {
     "name": "stdout",
     "output_type": "stream",
     "text": [
      "[1, 3.14, 2.78, 1.61, 1.4142]\n"
     ]
    }
   ],
   "source": [
    "# Add elements to a list with the append method:\n",
    "numbers.append(1.4142) # append permet d'ajouter un élément vers la fin\n",
    "print(numbers)"
   ]
  },
  {
   "cell_type": "code",
   "execution_count": 23,
   "metadata": {},
   "outputs": [
    {
     "name": "stdout",
     "output_type": "stream",
     "text": [
      "[1, 3.14, 2.78, 1.61, 1.4142, 10.8, 'butter', 4]\n"
     ]
    }
   ],
   "source": [
    "# Concatination of Lists\n",
    "print(numbers + mixed)"
   ]
  },
  {
   "cell_type": "code",
   "execution_count": 24,
   "metadata": {},
   "outputs": [
    {
     "name": "stdout",
     "output_type": "stream",
     "text": [
      "[1, 2, 3, 6, 9, 19, 78, 330, 587]\n"
     ]
    }
   ],
   "source": [
    "# Sorting a numerical List\n",
    "List1 = [3, 6, 9, 2, 78, 1, 330, 587, 19]\n",
    "List1.sort()\n",
    "print(List1)"
   ]
  },
  {
   "cell_type": "code",
   "execution_count": 26,
   "metadata": {},
   "outputs": [
    {
     "name": "stdout",
     "output_type": "stream",
     "text": [
      "[1, 2, 3, 6, 9, 19, 78, 330, 587]\n",
      "[3, 6, 9, 2, 78, 1, 330, 587, 19]\n"
     ]
    }
   ],
   "source": [
    "# Sorting a List in a new one \n",
    "List1 = [3, 6, 9, 2, 78, 1, 330, 587, 19]\n",
    "List2 = sorted(List1)\n",
    "print(List2)\n",
    "print(List1)"
   ]
  },
  {
   "cell_type": "code",
   "execution_count": 27,
   "metadata": {},
   "outputs": [
    {
     "data": {
      "text/plain": [
       "[587, 330, 78, 19, 9, 6, 3, 2, 1]"
      ]
     },
     "execution_count": 27,
     "metadata": {},
     "output_type": "execute_result"
    }
   ],
   "source": [
    "# Sorting a List in rverse order\n",
    "sorted(List1, reverse=True)\n"
   ]
  },
  {
   "cell_type": "markdown",
   "metadata": {},
   "source": [
    "# Les listes en compréhension"
   ]
  },
  {
   "cell_type": "code",
   "execution_count": 28,
   "metadata": {},
   "outputs": [
    {
     "name": "stdout",
     "output_type": "stream",
     "text": [
      "List comprehension is useful\n"
     ]
    }
   ],
   "source": [
    "# Methods on Lists\n",
    "sentence = \"List comprehension is useful\"\n",
    "print(sentence)"
   ]
  },
  {
   "cell_type": "code",
   "execution_count": 29,
   "metadata": {},
   "outputs": [
    {
     "name": "stdout",
     "output_type": "stream",
     "text": [
      "[['LIST', 'list', 4], ['COMPREHENSION', 'comprehension', 13], ['IS', 'is', 2], ['USEFUL', 'useful', 6]]\n"
     ]
    }
   ],
   "source": [
    "# perform various changes inside a list\n",
    "words = [[word.upper(), word.lower(), len(word)] for word in sentence.split()]\n",
    "print(words)"
   ]
  },
  {
   "cell_type": "markdown",
   "metadata": {},
   "source": [
    "this is a new cell"
   ]
  },
  {
   "cell_type": "code",
   "execution_count": 40,
   "metadata": {},
   "outputs": [
    {
     "name": "stdout",
     "output_type": "stream",
     "text": [
      "['This', 'me', 'I', 'am', 'Learning', 'Python']\n"
     ]
    }
   ],
   "source": [
    "sentence2=\"This*me*I*am*Learning*Python\"\n",
    "l=sentence2.split(\"*\")\n",
    "print(l)"
   ]
  },
  {
   "cell_type": "markdown",
   "metadata": {},
   "source": [
    "<h4>5. Tuples</h4>"
   ]
  },
  {
   "cell_type": "markdown",
   "metadata": {},
   "source": [
    "A tuple may be seen as a list by another name: They are also sequences of objects, and they may be of mixed type too. They are indeed closely related to lists and apart from the fact that they are defined with round brackets, ( ), the main difference is that tuples are immutable."
   ]
  },
  {
   "cell_type": "code",
   "execution_count": 41,
   "metadata": {},
   "outputs": [
    {
     "ename": "TypeError",
     "evalue": "'tuple' object does not support item assignment",
     "output_type": "error",
     "traceback": [
      "\u001b[1;31m---------------------------------------------------------------------------\u001b[0m",
      "\u001b[1;31mTypeError\u001b[0m                                 Traceback (most recent call last)",
      "\u001b[1;32m<ipython-input-41-19232e64b0e4>\u001b[0m in \u001b[0;36m<module>\u001b[1;34m\u001b[0m\n\u001b[0;32m      2\u001b[0m \u001b[0mmixed_tuple\u001b[0m \u001b[1;33m=\u001b[0m \u001b[1;33m(\u001b[0m\u001b[1;36m10.8\u001b[0m\u001b[1;33m,\u001b[0m\u001b[1;34m\"eggs\"\u001b[0m\u001b[1;33m,\u001b[0m\u001b[1;36m4\u001b[0m\u001b[1;33m)\u001b[0m\u001b[1;33m\u001b[0m\u001b[1;33m\u001b[0m\u001b[0m\n\u001b[0;32m      3\u001b[0m \u001b[1;31m# try to change element in the tuple\u001b[0m\u001b[1;33m\u001b[0m\u001b[1;33m\u001b[0m\u001b[1;33m\u001b[0m\u001b[0m\n\u001b[1;32m----> 4\u001b[1;33m \u001b[0mmixed_tuple\u001b[0m\u001b[1;33m[\u001b[0m\u001b[1;36m1\u001b[0m\u001b[1;33m]\u001b[0m \u001b[1;33m=\u001b[0m \u001b[1;34m\"butter\"\u001b[0m\u001b[1;33m\u001b[0m\u001b[1;33m\u001b[0m\u001b[0m\n\u001b[0m",
      "\u001b[1;31mTypeError\u001b[0m: 'tuple' object does not support item assignment"
     ]
    }
   ],
   "source": [
    "# Declare a tuple\n",
    "mixed_tuple = (10.8,\"eggs\",4)\n",
    "# try to change element in the tuple\n",
    "mixed_tuple[1] = \"butter\""
   ]
  },
  {
   "cell_type": "markdown",
   "metadata": {},
   "source": [
    "<h4>6. Dictionaries</h4>"
   ]
  },
  {
   "cell_type": "markdown",
   "metadata": {},
   "source": [
    "A Python dictionary is defined with the use of curly brackets, { }. Furthermore, the key-value pairs are separated by a colon (:) as follows:"
   ]
  },
  {
   "cell_type": "code",
   "execution_count": 42,
   "metadata": {},
   "outputs": [
    {
     "name": "stdout",
     "output_type": "stream",
     "text": [
      "{'eggs': 1, 'sausage': 2, 'bacon': 3, 'butter': 3}\n"
     ]
    }
   ],
   "source": [
    "# Declare a dictionarie\n",
    "dictio = {\"eggs\":1, \"sausage\":2,\"bacon\":3, \"butter\":3}\n",
    "print(dictio)"
   ]
  },
  {
   "cell_type": "code",
   "execution_count": 43,
   "metadata": {},
   "outputs": [
    {
     "name": "stdout",
     "output_type": "stream",
     "text": [
      "3\n"
     ]
    }
   ],
   "source": [
    "# Dictionarie default output\n",
    "print(dictio[\"butter\"])"
   ]
  },
  {
   "cell_type": "code",
   "execution_count": 44,
   "metadata": {},
   "outputs": [
    {
     "name": "stdout",
     "output_type": "stream",
     "text": [
      "dict_keys(['eggs', 'sausage', 'bacon', 'butter'])\n"
     ]
    }
   ],
   "source": [
    "#print Dectionarie keys\n",
    "print(dictio.keys())"
   ]
  },
  {
   "cell_type": "code",
   "execution_count": 45,
   "metadata": {},
   "outputs": [
    {
     "name": "stdout",
     "output_type": "stream",
     "text": [
      "dict_values([1, 2, 3, 3])\n"
     ]
    }
   ],
   "source": [
    "#print Dectionarie values\n",
    "print(dictio.values())"
   ]
  },
  {
   "cell_type": "code",
   "execution_count": 46,
   "metadata": {},
   "outputs": [
    {
     "name": "stdout",
     "output_type": "stream",
     "text": [
      "dict_items([('eggs', 1), ('sausage', 2), ('bacon', 3), ('butter', 3)])\n"
     ]
    }
   ],
   "source": [
    "#Print both keys and values\n",
    "print(dictio.items())"
   ]
  },
  {
   "cell_type": "code",
   "execution_count": 51,
   "metadata": {},
   "outputs": [
    {
     "name": "stdout",
     "output_type": "stream",
     "text": [
      "['eggs', 1, 'sausage', 2, 'bacon', 3, 'butter', 3]\n"
     ]
    }
   ],
   "source": [
    "#exercice: parcours des éléments d'un dictionnaire et passage à une liste contenant les valeurs:\n",
    "l=[]\n",
    "for key, value in dictio.items():\n",
    "    l.append(key)\n",
    "    l.append(value)\n",
    "\n",
    "print(l)"
   ]
  },
  {
   "cell_type": "code",
   "execution_count": null,
   "metadata": {},
   "outputs": [],
   "source": [
    "tu=(1,2)\n",
    "tu= 1,2"
   ]
  },
  {
   "cell_type": "markdown",
   "metadata": {},
   "source": [
    "<h3> II - Control Flow:<h3>"
   ]
  },
  {
   "cell_type": "markdown",
   "metadata": {},
   "source": [
    "<h4>1. if.. elif.. else..</h4>"
   ]
  },
  {
   "cell_type": "markdown",
   "metadata": {},
   "source": [
    "<b>if</b> condition1 : <br>\n",
    "block of code executed<br>\n",
    "if condition1 is met<br>\n",
    "<b>elif</b> condition2 :<br>\n",
    "block of code executed<br>\n",
    "if condition2 is met<br>\n",
    "...<br>\n",
    "<b>elif</b> conditionN :<br>\n",
    "block of code executed<br>\n",
    "if conditionN is met<br>\n",
    "<b>else:</b><br>\n",
    "block of code executed<br>\n",
    "if no conditions are met<br>\n"
   ]
  },
  {
   "cell_type": "code",
   "execution_count": null,
   "metadata": {},
   "outputs": [],
   "source": [
    "#elif => else if=> sinon si\n",
    "#else => le dernier sinon\n",
    "\n",
    "Age = 60\n",
    "if Age > 50:\n",
    "    print(\"A wise person\")\n",
    "elif 30<= Age <=50 :\n",
    "    print(\"He is mature \")\n",
    "else:\n",
    "    print(\"Such a youngster\")"
   ]
  },
  {
   "cell_type": "markdown",
   "metadata": {},
   "source": [
    "<h4>2. While</h4>"
   ]
  },
  {
   "cell_type": "markdown",
   "metadata": {},
   "source": [
    "<b>while logical_test:</b><br>\n",
    "   block of code to be executed<br>\n",
    "   don’t forget to update the test variable<br>"
   ]
  },
  {
   "cell_type": "code",
   "execution_count": 52,
   "metadata": {},
   "outputs": [
    {
     "name": "stdout",
     "output_type": "stream",
     "text": [
      "10\n",
      "9\n",
      "8\n",
      "7\n",
      "6\n",
      "5\n",
      "4\n",
      "3\n",
      "2\n",
      "1\n",
      "0\n"
     ]
    }
   ],
   "source": [
    "countdown = 10\n",
    "while countdown >= 0:\n",
    "    print(countdown)\n",
    "    countdown -= 1 #countdown = countdown-1"
   ]
  },
  {
   "cell_type": "markdown",
   "metadata": {},
   "source": [
    "<h4>3. For</h4>"
   ]
  },
  {
   "cell_type": "markdown",
   "metadata": {},
   "source": [
    "<b>for</b> item <b>in</b> sequence:<br>\n",
    "block of code to be executed<br>"
   ]
  },
  {
   "cell_type": "code",
   "execution_count": 53,
   "metadata": {},
   "outputs": [
    {
     "name": "stdout",
     "output_type": "stream",
     "text": [
      "10\n",
      "9\n",
      "8\n",
      "7\n",
      "6\n",
      "5\n",
      "4\n",
      "3\n",
      "2\n",
      "1\n",
      "0\n"
     ]
    }
   ],
   "source": [
    "countdown_list = [10, 9, 8, 7, 6,5, 4, 3, 2, 1, 0]\n",
    "for x in countdown_list:\n",
    "    print(x)\n"
   ]
  },
  {
   "cell_type": "markdown",
   "metadata": {},
   "source": [
    "We could simplify the example above by avoiding the\n",
    "explicit definition of the list and instead define a range:"
   ]
  },
  {
   "cell_type": "code",
   "execution_count": 55,
   "metadata": {},
   "outputs": [
    {
     "name": "stdout",
     "output_type": "stream",
     "text": [
      "10\n",
      "8\n",
      "6\n",
      "4\n",
      "2\n",
      "0\n"
     ]
    }
   ],
   "source": [
    "for x in range(10,-1,-2): #range(start, stop, step)\n",
    "    print(x)\n"
   ]
  },
  {
   "cell_type": "markdown",
   "metadata": {},
   "source": [
    "<h4>5. Functions</h4>"
   ]
  },
  {
   "cell_type": "markdown",
   "metadata": {},
   "source": [
    "Now that we have covered some of the elementary\n",
    "control flow structures in Python, we can start combining\n",
    "them into logical blocks to carry out specific tasks. In particular we can construct pieces of code that can be\n",
    "repeated when necessary and whose outcome depends on\n",
    "the input parameters provided. In other words, we are\n",
    "talking about functions"
   ]
  },
  {
   "cell_type": "code",
   "execution_count": 57,
   "metadata": {},
   "outputs": [],
   "source": [
    "def rect_area(a, b=1.0): # b=1.0 => c'est-à-dire par défaut, b prend la valeur 1.0\n",
    "    #les variables par défaut doivent être mis vers la fin de la définition d'une fonction\n",
    "    \"Calculate the area of a rectangle\"\n",
    "    return a*b"
   ]
  },
  {
   "cell_type": "code",
   "execution_count": 59,
   "metadata": {},
   "outputs": [
    {
     "name": "stdout",
     "output_type": "stream",
     "text": [
      "20.0\n"
     ]
    }
   ],
   "source": [
    "c = rect_area(20)\n",
    "print(c)"
   ]
  },
  {
   "cell_type": "code",
   "execution_count": null,
   "metadata": {},
   "outputs": [],
   "source": [
    "#Exercice2\n",
    "#Ecrire une fontion qui permet de calculer les carrés des éléments d'une liste des nombres de 1 à n (n entier non nul)"
   ]
  },
  {
   "cell_type": "code",
   "execution_count": 60,
   "metadata": {},
   "outputs": [],
   "source": [
    "def carre(n):\n",
    "    if n==0:\n",
    "        print(0)\n",
    "    else:\n",
    "        l=[x**2 for x in range(1, n+1)]\n",
    "        print(l)\n",
    "    "
   ]
  },
  {
   "cell_type": "code",
   "execution_count": 61,
   "metadata": {},
   "outputs": [
    {
     "name": "stdout",
     "output_type": "stream",
     "text": [
      "[1, 4, 9, 16, 25]\n"
     ]
    }
   ],
   "source": [
    "carre(5)"
   ]
  },
  {
   "cell_type": "code",
   "execution_count": 62,
   "metadata": {},
   "outputs": [
    {
     "name": "stdout",
     "output_type": "stream",
     "text": [
      "0\n"
     ]
    }
   ],
   "source": [
    "carre(0)"
   ]
  },
  {
   "cell_type": "code",
   "execution_count": 63,
   "metadata": {},
   "outputs": [
    {
     "name": "stdout",
     "output_type": "stream",
     "text": [
      "[1]\n"
     ]
    }
   ],
   "source": [
    "carre(1)"
   ]
  },
  {
   "cell_type": "code",
   "execution_count": 64,
   "metadata": {},
   "outputs": [
    {
     "name": "stdout",
     "output_type": "stream",
     "text": [
      "Merci de taper un entier positif-8\n",
      "Merci de taper un entier positif-7\n",
      "Merci de taper un entier positif-5\n",
      "Merci de taper un entier positif-12\n",
      "Merci de taper un entier positif17\n",
      "[1, 4, 9, 16, 25, 36, 49, 64, 81, 100, 121, 144, 169, 196, 225, 256, 289]\n"
     ]
    }
   ],
   "source": [
    "n=-2\n",
    "while(n<0):\n",
    "    n=int(input(\"Merci de taper un entier positif\"))\n",
    "carre(n)"
   ]
  },
  {
   "cell_type": "code",
   "execution_count": null,
   "metadata": {},
   "outputs": [],
   "source": []
  },
  {
   "cell_type": "code",
   "execution_count": null,
   "metadata": {},
   "outputs": [],
   "source": []
  },
  {
   "cell_type": "code",
   "execution_count": null,
   "metadata": {},
   "outputs": [],
   "source": []
  },
  {
   "cell_type": "code",
   "execution_count": null,
   "metadata": {},
   "outputs": [],
   "source": []
  },
  {
   "cell_type": "markdown",
   "metadata": {},
   "source": [
    "this is an example of Main function that returns a list of numbers power of 2"
   ]
  },
  {
   "cell_type": "code",
   "execution_count": 2,
   "metadata": {},
   "outputs": [
    {
     "name": "stdout",
     "output_type": "stream",
     "text": [
      "Give me a positive number 5\n",
      "range(0, 6)\n",
      "[0, 1, 4, 9, 16, 25]\n"
     ]
    }
   ],
   "source": [
    "def main():\n",
    "    \"Print the square of a list of numbers from 0 to n\"\n",
    "    n = input(\"Give me a positive number \")\n",
    "    x = range(int(n)+1)\n",
    "    print(x)\n",
    "    y = [item**2 for item in x]\n",
    "    print(y)\n",
    "main()\n"
   ]
  },
  {
   "cell_type": "code",
   "execution_count": 65,
   "metadata": {},
   "outputs": [],
   "source": [
    "'''\n",
    "\n",
    "\n",
    "Si une année n'est pas multiple de 4, on s'arrête là, elle n'est pas bissextile.\n",
    "            Si elle est multiple de 4, on regarde si elle est multiple de 100.\n",
    "            Si c'est le cas, on regarde si elle est multiple de 400.\n",
    "            Si c'est le cas, l'année est bissextile.\n",
    "            Sinon, elle n'est pas bissextile.\n",
    "Sinon, elle est bissextile.\n",
    "\n",
    "'''\n",
    "def leap(annee):\n",
    "\n",
    "    if annee%4!=0:\n",
    "        print(\"Année Non Bissextile\")\n",
    "    elif annee%4==0 and annee%100!=0:\n",
    "        print(\"Année Bissextile\")\n",
    "    elif annee%4==0 and annee%100==0:\n",
    "        if annee%400==0:\n",
    "            print(\"Annee est bissextile\")\n",
    "        else:\n",
    "            print(\"Annee non bissextile\")\n"
   ]
  },
  {
   "cell_type": "code",
   "execution_count": 70,
   "metadata": {},
   "outputs": [
    {
     "name": "stdout",
     "output_type": "stream",
     "text": [
      "Année Non Bissextile\n"
     ]
    }
   ],
   "source": [
    "leap(1995)"
   ]
  }
 ],
 "metadata": {
  "kernelspec": {
   "display_name": "Python 3",
   "language": "python",
   "name": "python3"
  },
  "language_info": {
   "codemirror_mode": {
    "name": "ipython",
    "version": 3
   },
   "file_extension": ".py",
   "mimetype": "text/x-python",
   "name": "python",
   "nbconvert_exporter": "python",
   "pygments_lexer": "ipython3",
   "version": "3.8.3"
  }
 },
 "nbformat": 4,
 "nbformat_minor": 4
}
